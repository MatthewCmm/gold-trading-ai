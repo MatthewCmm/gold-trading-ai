{
 "cells": [
  {
   "cell_type": "code",
   "execution_count": null,
   "id": "afd099ba-9aad-4036-be30-3f514188f3b0",
   "metadata": {},
   "outputs": [],
   "source": [
    "from src.data_fetch import download_gold\n",
    "from src.indicators import moving_averages, compute_rsi, compute_atr\n",
    "from src.strategy import MACrossStrategy\n",
    "from src.backtester import run_backtest\n",
    "\n",
    "gold = download_gold(\"GC=F\", start=\"2015-01-01\")\n",
    "gold = moving_averages(gold)\n",
    "gold[\"RSI14\"] = compute_rsi(gold[\"Close\"])\n",
    "gold = compute_atr(gold)\n",
    "\n",
    "stats, bt = run_backtest(gold, MACrossStrategy)\n",
    "print(stats)\n",
    "bt.plot()\n"
   ]
  }
 ],
 "metadata": {
  "kernelspec": {
   "display_name": "Python 3 (ipykernel)",
   "language": "python",
   "name": "python3"
  },
  "language_info": {
   "codemirror_mode": {
    "name": "ipython",
    "version": 3
   },
   "file_extension": ".py",
   "mimetype": "text/x-python",
   "name": "python",
   "nbconvert_exporter": "python",
   "pygments_lexer": "ipython3",
   "version": "3.12.3"
  }
 },
 "nbformat": 4,
 "nbformat_minor": 5
}
