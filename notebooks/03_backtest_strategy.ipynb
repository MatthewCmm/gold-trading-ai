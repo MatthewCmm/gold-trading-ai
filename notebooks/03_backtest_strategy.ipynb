{
 "cells": [
  {
   "cell_type": "code",
   "execution_count": 1,
   "id": "afd099ba-9aad-4036-be30-3f514188f3b0",
   "metadata": {},
   "outputs": [
    {
     "ename": "ModuleNotFoundError",
     "evalue": "No module named 'src'",
     "output_type": "error",
     "traceback": [
      "\u001b[31m---------------------------------------------------------------------------\u001b[39m",
      "\u001b[31mModuleNotFoundError\u001b[39m                       Traceback (most recent call last)",
      "\u001b[36mCell\u001b[39m\u001b[36m \u001b[39m\u001b[32mIn[1]\u001b[39m\u001b[32m, line 1\u001b[39m\n\u001b[32m----> \u001b[39m\u001b[32m1\u001b[39m \u001b[38;5;28;01mfrom\u001b[39;00m \u001b[34;01msrc\u001b[39;00m\u001b[34;01m.\u001b[39;00m\u001b[34;01mdata_fetch\u001b[39;00m \u001b[38;5;28;01mimport\u001b[39;00m download_gold\n\u001b[32m      2\u001b[39m \u001b[38;5;28;01mfrom\u001b[39;00m \u001b[34;01msrc\u001b[39;00m\u001b[34;01m.\u001b[39;00m\u001b[34;01mindicators\u001b[39;00m \u001b[38;5;28;01mimport\u001b[39;00m moving_averages, compute_rsi, compute_atr\n\u001b[32m      3\u001b[39m \u001b[38;5;28;01mfrom\u001b[39;00m \u001b[34;01msrc\u001b[39;00m\u001b[34;01m.\u001b[39;00m\u001b[34;01mstrategy\u001b[39;00m \u001b[38;5;28;01mimport\u001b[39;00m MACrossStrategy\n",
      "\u001b[31mModuleNotFoundError\u001b[39m: No module named 'src'"
     ]
    }
   ],
   "source": [
    "from src.data_fetch import download_gold\n",
    "from src.indicators import moving_averages, compute_rsi, compute_atr\n",
    "from src.strategy import MACrossStrategy\n",
    "from src.backtester import run_backtest\n",
    "\n",
    "gold = download_gold(\"GC=F\", start=\"2015-01-01\")\n",
    "gold = moving_averages(gold)\n",
    "gold[\"RSI14\"] = compute_rsi(gold[\"Close\"])\n",
    "gold = compute_atr(gold)\n",
    "\n",
    "stats, bt = run_backtest(gold, MACrossStrategy)\n",
    "print(stats)\n",
    "bt.plot()\n"
   ]
  },
  {
   "cell_type": "code",
   "execution_count": null,
   "id": "a52f94ca-302a-4502-9aa1-fdb161e3a53f",
   "metadata": {},
   "outputs": [],
   "source": []
  }
 ],
 "metadata": {
  "kernelspec": {
   "display_name": "Python 3 (ipykernel)",
   "language": "python",
   "name": "python3"
  },
  "language_info": {
   "codemirror_mode": {
    "name": "ipython",
    "version": 3
   },
   "file_extension": ".py",
   "mimetype": "text/x-python",
   "name": "python",
   "nbconvert_exporter": "python",
   "pygments_lexer": "ipython3",
   "version": "3.12.3"
  }
 },
 "nbformat": 4,
 "nbformat_minor": 5
}
